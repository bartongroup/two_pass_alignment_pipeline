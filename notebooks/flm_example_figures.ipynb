{
 "cells": [
  {
   "cell_type": "markdown",
   "metadata": {},
   "source": [
    "# Create FLM example files\n",
    "\n",
    "Create example bed files for FLM exon 6 to visualise in IGV"
   ]
  },
  {
   "cell_type": "code",
   "execution_count": 1,
   "metadata": {},
   "outputs": [
    {
     "data": {
      "image/png": "[encoded data removed]",
      "text/plain": [
       "<Figure size 504x72 with 1 Axes>"
      ]
     },
     "metadata": {},
     "output_type": "display_data"
    }
   ],
   "source": [
    "import sys\n",
    "import os\n",
    "import re\n",
    "from glob import glob\n",
    "from collections import Counter, defaultdict\n",
    "import itertools as it\n",
    "import random\n",
    "\n",
    "import numpy as np\n",
    "import pandas as pd\n",
    "from scipy import stats\n",
    "import matplotlib.pyplot as plt\n",
    "from matplotlib.colors import ListedColormap\n",
    "import seaborn as sns\n",
    "\n",
    "\n",
    "## Default plotting params\n",
    "\n",
    "%matplotlib inline\n",
    "sns.set(font='Arial')\n",
    "plt.rcParams['svg.fonttype'] = 'none'\n",
    "style = sns.axes_style('white')\n",
    "style.update(sns.axes_style('ticks'))\n",
    "style['xtick.major.size'] = 2\n",
    "style['ytick.major.size'] = 2\n",
    "sns.set(font_scale=2, style=style)\n",
    "pal = sns.color_palette(['#0072b2', '#d55e00', '#009e73', '#f0e442', '#cc79a7', '#56b4e9', '#e69f00'])\n",
    "cmap = ListedColormap(pal.as_hex())\n",
    "sns.set_palette(pal)\n",
    "sns.palplot(pal)\n",
    "plt.show()"
   ]
  },
  {
   "cell_type": "code",
   "execution_count": 2,
   "metadata": {},
   "outputs": [],
   "source": [
    "def parse_exons(record):\n",
    "    start = int(record[1])\n",
    "    end = int(record[2])\n",
    "    exstarts = np.fromstring(record[11], sep=',', dtype=int) + start\n",
    "    exends = exstarts + np.fromstring(record[10], sep=',', dtype=int)\n",
    "    exons = np.dstack([exstarts, exends])[0]\n",
    "    return [tuple(ex) for ex in exons]\n",
    "\n",
    "\n",
    "def get_failed_alignments_at(bed_fn, gene_id, exon_invs):\n",
    "    failed_alignments = []\n",
    "    with open(bed_fn) as bed:\n",
    "        for record in bed:\n",
    "            record = record.split()\n",
    "            chrom = record[0]\n",
    "            strand = record[5]\n",
    "            read_id = record[3]\n",
    "            sim_gene_id = re.split('[-\\.]', read_id)[0]\n",
    "            if sim_gene_id == gene_id:\n",
    "                exons = parse_exons(record)\n",
    "                if not set(exons).intersection(exon_invs):\n",
    "                    failed_alignments.append(read_id)\n",
    "    return failed_alignments"
   ]
  },
  {
   "cell_type": "code",
   "execution_count": 3,
   "metadata": {},
   "outputs": [
    {
     "data": {
      "text/plain": [
       "{'AT1G77080-P4_sim11': '0,114,178',\n",
       " 'AT1G77080-P4_sim14': '0,114,178',\n",
       " 'AT1G77080-JC18_sim4': '213,94,0',\n",
       " 'AT1G77080-JC18_sim3': '213,94,0',\n",
       " 'AT1G77080.5_sim1': '0,158,115',\n",
       " 'AT1G77080-P11_sim1': '240,228,66',\n",
       " 'AT1G77080-ID68_sim1': '204,121,167'}"
      ]
     },
     "execution_count": 3,
     "metadata": {},
     "output_type": "execute_result"
    }
   ],
   "source": [
    "failed_alignment_reads = get_failed_alignments_at(\n",
    "    '../pipeline/arabidopsis_drs/20180201_1617_20180201_FAH45730_WT_Col0_2916_regular_seq/bed12/201901_col0_2916.sim_nofrag.firstpass.bed',\n",
    "    'AT1G77080', list(it.product(range(28958952, 28958960), range(28958993, 28959000)))    \n",
    ")\n",
    "random.seed(141)\n",
    "random.shuffle(failed_alignment_reads)\n",
    "failed_alignment_transcripts = Counter([re.split('_', rid)[0] for rid in failed_alignment_reads])\n",
    "cpal = {\n",
    "    tid[0]: '{:d},{:d},{:d}'.format(*(np.array(pal[i]) * 255).astype(int))\n",
    "    for i, tid in enumerate(failed_alignment_transcripts.most_common(5))\n",
    "}\n",
    "failed_alignment_colour = {}\n",
    "for transcript, _ in failed_alignment_transcripts.most_common(5):\n",
    "    i = 0\n",
    "    for rid in failed_alignment_reads:\n",
    "        if rid.startswith(transcript):\n",
    "            failed_alignment_colour[rid] = cpal[transcript]\n",
    "            i += 1\n",
    "        if i == 2:\n",
    "            break\n",
    "failed_alignment_colour"
   ]
  },
  {
   "cell_type": "code",
   "execution_count": 4,
   "metadata": {},
   "outputs": [],
   "source": [
    "def filter_bed_file(bed_fn, output_bed_fn, read_id_colours):\n",
    "    with open(bed_fn) as bed, open(output_bed_fn, 'w') as output:\n",
    "        for record in bed:\n",
    "            record = record.split()\n",
    "            read_id = record[3]\n",
    "            if read_id in read_id_colours:\n",
    "                record[8] = read_id_colours[read_id]\n",
    "                output.write('\\t'.join(record) + '\\n')"
   ]
  },
  {
   "cell_type": "code",
   "execution_count": 5,
   "metadata": {},
   "outputs": [],
   "source": [
    "!mkdir -p \"flm_bed_files\"\n",
    "\n",
    "bed_fns = glob(\n",
    "    '../pipeline/arabidopsis_drs/20180201_1617_20180201_FAH45730_WT_Col0_2916_regular_seq/bed12/201901_col0_2916.sim_nofrag.*.bed'\n",
    ") + [\n",
    "    '../pipeline/arabidopsis_drs/20180201_1617_20180201_FAH45730_WT_Col0_2916_regular_seq/flair/201901_col0_2916.sim_nofrag.firstpass.corrected.bed'\n",
    "]\n",
    "\n",
    "for bed_fn in bed_fns:\n",
    "    sample_name = os.path.split(bed_fn)[1].split('.')[-2]\n",
    "    if sample_name == 'corrected':\n",
    "        sample_name = 'flair_corrected'\n",
    "    output_bed_fn = f'./flm_bed_files/flm_reads.{sample_name}.bed'\n",
    "    filter_bed_file(bed_fn, output_bed_fn, failed_alignment_colour)"
   ]
  },
  {
   "cell_type": "code",
   "execution_count": 6,
   "metadata": {},
   "outputs": [],
   "source": [
    "def get_gtf_transcript_id(attrs):\n",
    "    return re.search('transcript_id \\\"(.*?)\\\";', attrs).group(1)\n",
    "\n",
    "\n",
    "def get_gtf_exons(gtf_fn):\n",
    "    with open(gtf_fn) as gtf:\n",
    "        for record in gtf:\n",
    "            if record.startswith('#'):\n",
    "                continue\n",
    "            record = record.strip().split('\\t')\n",
    "            if record[2] == 'exon':\n",
    "                transcript_id = get_gtf_transcript_id(record[8])\n",
    "                yield record[0], int(record[3]) - 1, int(record[4]), transcript_id, record[6]\n",
    "\n",
    "\n",
    "def parse_gtf_exon_invs(gtf_fn):\n",
    "    transcript_clusters = defaultdict(list)\n",
    "    for chrom, start, end, transcript_id, strand in get_gtf_exons(gtf_fn):\n",
    "        transcript_clusters[(transcript_id, chrom, strand)].append((start, end))\n",
    "    for (transcript_id, chrom, strand), exons in transcript_clusters.items():\n",
    "        exons.sort()\n",
    "        yield transcript_id, chrom, strand, np.array(exons)\n",
    "\n",
    "\n",
    "def filter_gtf_to_colourful_bed12(gtf_fn, output_bed_fn, transcript_cmap):\n",
    "    with open(output_bed_fn, 'w') as bed:\n",
    "        for transcript_id, chrom, strand, exons in parse_gtf_exon_invs(gtf_fn):\n",
    "            if transcript_id in transcript_cmap:\n",
    "                start, end = exons[0, 0], exons[-1, 1]\n",
    "                color = transcript_cmap[transcript_id]\n",
    "                exstarts = exons[:, 0] - start\n",
    "                exlengths = exons[:, 1] - exons[:, 0]\n",
    "                exstarts = ','.join([str(ex) for ex in exstarts])\n",
    "                exlengths = ','.join([str(ex) for ex in exlengths])\n",
    "                nex = len(exons)\n",
    "                bed.write(\n",
    "                    f'{chrom}\\t{start}\\t{end}\\t{transcript_id}\\t.\\t{strand}\\t'\n",
    "                    f'{start}\\t{end}\\t{color}\\t{nex}\\t{exlengths}\\t{exstarts}\\n'\n",
    "                )"
   ]
  },
  {
   "cell_type": "code",
   "execution_count": 7,
   "metadata": {},
   "outputs": [],
   "source": [
    "failed_alignment_colour_t = {\n",
    "    tid.split('_')[0]: c for tid, c in failed_alignment_colour.items()\n",
    "}\n",
    "\n",
    "\n",
    "filter_gtf_to_colourful_bed12(\n",
    "    '/cluster/ggs_lab/mtparker/Arabidopsis_annotations/atRTD/2016_update/AtRTD2_19April2016.nanosim_safe.gtf',\n",
    "    'flm_bed_files/flm_annot.bed',\n",
    "    failed_alignment_colour_t\n",
    ")"
   ]
  },
  {
   "cell_type": "code",
   "execution_count": 8,
   "metadata": {},
   "outputs": [
    {
     "name": "stdout",
     "output_type": "stream",
     "text": [
      "1\t28955521\t28960111\tAT1G77080-P4\t.\t+\t28955521\t28960111\t0,114,178\t7\t342,58,62,100,42,42,368\t0,2812,3080,3223,3431,3808,4222\n",
      "1\t28955533\t28960112\tAT1G77080-P11\t.\t+\t28955533\t28960112\t240,228,66\t6\t330,58,62,100,42,783\t0,2800,3068,3211,3419,3796\n",
      "1\t28955636\t28960096\tAT1G77080-ID68\t.\t+\t28955636\t28960096\t204,121,167\t6\t227,46,62,100,42,767\t0,2819,2965,3108,3316,3693\n",
      "1\t28955636\t28960206\tAT1G77080-JC18\t.\t+\t28955636\t28960206\t213,94,0\t7\t227,58,62,100,38,42,463\t0,2697,2965,3108,3320,3693,4107\n",
      "1\t28955678\t28960096\tAT1G77080.5\t.\t+\t28955678\t28960096\t0,158,115\t8\t185,58,62,100,42,42,50,353\t0,2655,2923,3066,3274,3651,3899,4065\n"
     ]
    }
   ],
   "source": [
    "!head flm_bed_files/flm_annot.bed"
   ]
  },
  {
   "cell_type": "code",
   "execution_count": 9,
   "metadata": {},
   "outputs": [
    {
     "name": "stdout",
     "output_type": "stream",
     "text": [
      "     22 spliced_correctly\n",
      "      2 spliced_incorrectly_annot\n",
      "     90 spliced_incorrectly_unannot\n"
     ]
    }
   ],
   "source": [
    "!grep AT1G77080 ../pipeline/arabidopsis_drs/*/metrics/*.sim_nofrag.firstpass.tsv | cut -f2 | sort | uniq -c"
   ]
  },
  {
   "cell_type": "code",
   "execution_count": 10,
   "metadata": {},
   "outputs": [
    {
     "data": {
      "text/plain": [
       "0.21052631578947367"
      ]
     },
     "execution_count": 10,
     "metadata": {},
     "output_type": "execute_result"
    }
   ],
   "source": [
    "24 / (88 + 2 + 24)"
   ]
  },
  {
   "cell_type": "code",
   "execution_count": 11,
   "metadata": {},
   "outputs": [
    {
     "name": "stdout",
     "output_type": "stream",
     "text": [
      "     46 spliced_correctly\n",
      "      3 spliced_incorrectly_annot\n",
      "     65 spliced_incorrectly_unannot\n"
     ]
    }
   ],
   "source": [
    "!grep AT1G77080 ../pipeline/arabidopsis_drs/*/metrics/*.sim_nofrag.flair_corrected.tsv | cut -f2 | sort | uniq -c"
   ]
  },
  {
   "cell_type": "code",
   "execution_count": 12,
   "metadata": {},
   "outputs": [
    {
     "data": {
      "text/plain": [
       "0.4298245614035088"
      ]
     },
     "execution_count": 12,
     "metadata": {},
     "output_type": "execute_result"
    }
   ],
   "source": [
    "49 / (63 + 2 + 49)"
   ]
  },
  {
   "cell_type": "code",
   "execution_count": 13,
   "metadata": {},
   "outputs": [
    {
     "name": "stdout",
     "output_type": "stream",
     "text": [
      "    105 spliced_correctly\n",
      "      4 spliced_incorrectly_annot\n",
      "      5 spliced_incorrectly_unannot\n"
     ]
    }
   ],
   "source": [
    "!grep AT1G77080 ../pipeline/arabidopsis_drs/*/metrics/*.sim_nofrag.refguided.tsv | cut -f2 | sort | uniq -c"
   ]
  },
  {
   "cell_type": "code",
   "execution_count": 14,
   "metadata": {},
   "outputs": [
    {
     "data": {
      "text/plain": [
       "0.9035087719298246"
      ]
     },
     "execution_count": 14,
     "metadata": {},
     "output_type": "execute_result"
    }
   ],
   "source": [
    "103 / (6 + 5 + 103)"
   ]
  },
  {
   "cell_type": "code",
   "execution_count": 15,
   "metadata": {},
   "outputs": [
    {
     "name": "stdout",
     "output_type": "stream",
     "text": [
      "     99 spliced_correctly\n",
      "      4 spliced_incorrectly_annot\n",
      "     11 spliced_incorrectly_unannot\n"
     ]
    }
   ],
   "source": [
    "!grep AT1G77080 ../pipeline/arabidopsis_drs/*/metrics/*.sim_nofrag.dt2filt.tsv | cut -f2 | sort | uniq -c"
   ]
  },
  {
   "cell_type": "code",
   "execution_count": 16,
   "metadata": {},
   "outputs": [
    {
     "data": {
      "text/plain": [
       "0.8596491228070176"
      ]
     },
     "execution_count": 16,
     "metadata": {},
     "output_type": "execute_result"
    }
   ],
   "source": [
    "98 / (8 + 8 + 98)"
   ]
  },
  {
   "cell_type": "code",
   "execution_count": null,
   "metadata": {},
   "outputs": [],
   "source": []
  }
 ],
 "metadata": {
  "kernelspec": {
   "display_name": "Python [conda env:nb_bio]",
   "language": "python",
   "name": "conda-env-nb_bio-py"
  },
  "language_info": {
   "codemirror_mode": {
    "name": "ipython",
    "version": 3
   },
   "file_extension": ".py",
   "mimetype": "text/x-python",
   "name": "python",
   "nbconvert_exporter": "python",
   "pygments_lexer": "ipython3",
   "version": "3.6.7"
  }
 },
 "nbformat": 4,
 "nbformat_minor": 4
}
